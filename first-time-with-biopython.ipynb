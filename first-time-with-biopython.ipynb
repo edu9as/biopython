{
 "cells": [
  {
   "cell_type": "markdown",
   "metadata": {},
   "source": [
    "# Biopython projects\n",
    "\n",
    "In the next days I will be learning some Biopython useful features to perform different bioinformatics-related tasks. If you want to learn more, I encourage you to read Biopython **Tutorial and Cookbook** written by Jeff Chang, Brad Chapman, Iddo Friedberg, Thomas Hamelryck,\n",
    "Michiel de Hoon, Peter Cock, Tiago Antao, Eric Talevich and Bartek Wilczynski (december 2019). I have learnt most of the things I show you in this project by reading this book."
   ]
  },
  {
   "cell_type": "code",
   "execution_count": 36,
   "metadata": {},
   "outputs": [
    {
     "name": "stdout",
     "output_type": "stream",
     "text": [
      "1.77\n"
     ]
    }
   ],
   "source": [
    "import Bio\n",
    "print(Bio.__version__)"
   ]
  },
  {
   "cell_type": "markdown",
   "metadata": {},
   "source": [
    "I think the simplest example of a Biopython functionality is to count the amino-acid frequencies in a protein, like TRPA1. \n",
    "\n",
    "In short, TRPA1 is a polymodal sensor that detects danger signals. It is a promiscuous chemical nocisensor that seems to be involved in noxious cold and mechanical stimuli sensation, itching and another physiological processes. It is an ion channel which belongs to the TRP channels family, it permeates cations in a non-selective fashion, and is associated with some pathological states such as chemotherapy-induced neuropathy (by oxaliplatin and paclitaxel), osteoarthritis and postoperative pain.\n",
    "\n",
    "Well, we can easily extract its amino-acid composition easily:"
   ]
  },
  {
   "cell_type": "code",
   "execution_count": 37,
   "metadata": {},
   "outputs": [
    {
     "name": "stdout",
     "output_type": "stream",
     "text": [
      "This is the Uniprot fasta file for TRPA1:\n",
      ">sp|O75762|TRPA1_HUMAN Transient receptor potential cation channel subfamily A member 1 OS=Homo sapiens OX=9606 GN=TRPA1 PE=1 SV=3\n",
      "MKRSLRKMWRPGEKKEPQGVVYEDVPDDTEDFKESLKVVFEGSAYGLQNFNKQKKLKRCD\n",
      "DMDTFFLHYAAAEGQIELMEKITRDSSLEVLHEMDDYGNTPLHCAVEKNQIESVKFLLSR\n",
      "GANPNLRNFNMMAPLHIAVQGMNNEVMKVLLEHRTIDVNLEGENGNTAVIIACTTNNSEA\n",
      "LQILLKKGAKPCKSNKWGCFPIHQAAFSGSKECMEIILRFGEEHGYSRQLHINFMNNGKA\n",
      "TPLHLAVQNGDLEMIKMCLDNGAQIDPVEKGRCTAIHFAATQGATEIVKLMISSYSGSVD\n",
      "IVNTTDGCHETMLHRASLFDHHELADYLISVGADINKIDSEGRSPLILATASASWNIVNL\n",
      "LLSKGAQVDIKDNFGRNFLHLTVQQPYGLKNLRPEFMQMQQIKELVMDEDNDGCTPLHYA\n",
      "CRQGGPGSVNNLLGFNVSIHSKSKDKKSPLHFAASYGRINTCQRLLQDISDTRLLNEGDL\n",
      "HGMTPLHLAAKNGHDKVVQLLLKKGALFLSDHNGWTALHHASMGGYTQTMKVILDTNLKC\n",
      "TDRLDEDGNTALHFAAREGHAKAVALLLSHNADIVLNKQQASFLHLALHNKRKEVVLTII\n",
      "RSKRWDECLKIFSHNSPGNKCPITEMIEYLPECMKVLLDFCMLHSTEDKSCRDYYIEYNF\n",
      "KYLQCPLEFTKKTPTQDVIYEPLTALNAMVQNNRIELLNHPVCKEYLLMKWLAYGFRAHM\n",
      "MNLGSYCLGLIPMTILVVNIKPGMAFNSTGIINETSDHSEILDTTNSYLIKTCMILVFLS\n",
      "SIFGYCKEAGQIFQQKRNYFMDISNVLEWIIYTTGIIFVLPLFVEIPAHLQWQCGAIAVY\n",
      "FYWMNFLLYLQRFENCGIFIVMLEVILKTLLRSTVVFIFLLLAFGLSFYILLNLQDPFSS\n",
      "PLLSIIQTFSMMLGDINYRESFLEPYLRNELAHPVLSFAQLVSFTIFVPIVLMNLLIGLA\n",
      "VGDIAEVQKHASLKRIAMQVELHTSLEKKLPLWFLRKVDQKSTIVYPNKPRSGGMLFHIF\n",
      "CFLFCTGEIRQEIPNADKSLEMEILKQKYRLKDLTFLLEKQHELIKLIIQKMEIISETED\n",
      "DDSHCSFQDRFKKEQMEQRNSRWNTVLRAVKAKTHHLEP\n",
      "\n",
      "This is TRPA1 sequence:\n",
      "MKRSLRKMWRPGEKKEPQGVVYEDVPDDTEDFKESLKVVFEGSAYGLQNFNKQKKLKRCDDMDTFFLHYAAAEGQIELMEKITRDSSLEVLHEMDDYGNTPLHCAVEKNQIESVKFLLSRGANPNLRNFNMMAPLHIAVQGMNNEVMKVLLEHRTIDVNLEGENGNTAVIIACTTNNSEALQILLKKGAKPCKSNKWGCFPIHQAAFSGSKECMEIILRFGEEHGYSRQLHINFMNNGKATPLHLAVQNGDLEMIKMCLDNGAQIDPVEKGRCTAIHFAATQGATEIVKLMISSYSGSVDIVNTTDGCHETMLHRASLFDHHELADYLISVGADINKIDSEGRSPLILATASASWNIVNLLLSKGAQVDIKDNFGRNFLHLTVQQPYGLKNLRPEFMQMQQIKELVMDEDNDGCTPLHYACRQGGPGSVNNLLGFNVSIHSKSKDKKSPLHFAASYGRINTCQRLLQDISDTRLLNEGDLHGMTPLHLAAKNGHDKVVQLLLKKGALFLSDHNGWTALHHASMGGYTQTMKVILDTNLKCTDRLDEDGNTALHFAAREGHAKAVALLLSHNADIVLNKQQASFLHLALHNKRKEVVLTIIRSKRWDECLKIFSHNSPGNKCPITEMIEYLPECMKVLLDFCMLHSTEDKSCRDYYIEYNFKYLQCPLEFTKKTPTQDVIYEPLTALNAMVQNNRIELLNHPVCKEYLLMKWLAYGFRAHMMNLGSYCLGLIPMTILVVNIKPGMAFNSTGIINETSDHSEILDTTNSYLIKTCMILVFLSSIFGYCKEAGQIFQQKRNYFMDISNVLEWIIYTTGIIFVLPLFVEIPAHLQWQCGAIAVYFYWMNFLLYLQRFENCGIFIVMLEVILKTLLRSTVVFIFLLLAFGLSFYILLNLQDPFSSPLLSIIQTFSMMLGDINYRESFLEPYLRNELAHPVLSFAQLVSFTIFVPIVLMNLLIGLAVGDIAEVQKHASLKRIAMQVELHTSLEKKLPLWFLRKVDQKSTIVYPNKPRSGGMLFHIFCFLFCTGEIRQEIPNADKSLEMEILKQKYRLKDLTFLLEKQHELIKLIIQKMEIISETEDDDSHCSFQDRFKKEQMEQRNSRWNTVLRAVKAKTHHLEP\n",
      "\n",
      "Now let's analyze TRPA1 amino-acid composition.\n",
      "There is 5.7% of A in TRPA1 sequence.\n",
      "There is 2.5% of C in TRPA1 sequence.\n",
      "There is 4.8% of D in TRPA1 sequence.\n",
      "There is 6.3% of E in TRPA1 sequence.\n",
      "There is 4.9% of F in TRPA1 sequence.\n",
      "There is 5.4% of G in TRPA1 sequence.\n",
      "There is 3.8% of H in TRPA1 sequence.\n",
      "There is 7.0% of I in TRPA1 sequence.\n",
      "There is 6.8% of K in TRPA1 sequence.\n",
      "There is 12.4% of L in TRPA1 sequence.\n",
      "There is 3.8% of M in TRPA1 sequence.\n",
      "There is 5.8% of N in TRPA1 sequence.\n",
      "There is 3.4% of P in TRPA1 sequence.\n",
      "There is 4.2% of Q in TRPA1 sequence.\n",
      "There is 3.7% of R in TRPA1 sequence.\n",
      "There is 5.8% of S in TRPA1 sequence.\n",
      "There is 4.7% of T in TRPA1 sequence.\n",
      "There is 5.2% of V in TRPA1 sequence.\n",
      "There is 1.0% of W in TRPA1 sequence.\n",
      "There is 2.9% of Y in TRPA1 sequence.\n"
     ]
    }
   ],
   "source": [
    "from Bio.Seq import Seq\n",
    "from Bio.Alphabet import IUPAC\n",
    "import requests\n",
    "\n",
    "# We get the fasta sequence from Uniprot (Uniprot ID for TRPA1 is 75762)\n",
    "TRPA1_fasta = requests.get(\"https://www.uniprot.org/uniprot/O75762.fasta\", headers={'Accept-Encoding': 'br'}).text.strip()\n",
    "print(\"This is the Uniprot fasta file for TRPA1:\\n{}\\n\".format(TRPA1_fasta))\n",
    "\n",
    "# We split the entry by newline symbols\n",
    "TRPA1_split = TRPA1_fasta.split(\"\\n\")\n",
    "\n",
    "# We discard the header and join TRPA1 sequence in an only string\n",
    "TRPA1_seq = \"\".join(TRPA1_split[1:])\n",
    "print(\"This is TRPA1 sequence:\\n{}\".format(TRPA1_seq))\n",
    "\n",
    "\n",
    "TRPA1 = Seq(TRPA1_seq, IUPAC.protein)\n",
    "\n",
    "print(\"\\nNow let's analyze TRPA1 amino-acid composition.\")\n",
    "for aminoacid in \"ACDEFGHIKLMNPQRSTVWY\":\n",
    "    print(\"There is {}% of {} in TRPA1 sequence.\".format(\n",
    "        round(100*TRPA1.count(aminoacid)/len(TRPA1), 1), aminoacid))"
   ]
  },
  {
   "cell_type": "markdown",
   "metadata": {},
   "source": [
    "We see that the most abundant amino-acids are leucin and isoleucin (around 20% of TRPA1 amino-acids combined). The abundance of this two non-polar amino-acids makes sense, as TRPA1 is a transmembrane channel so it has a large transmembrane region and the inner part of the plasma membrane is hydrophobic.\n",
    "\n",
    "Besides, we can also count TRPA1 composition discriminating between hydrophobic, polar, negatively and positively charged amino acids:"
   ]
  },
  {
   "cell_type": "code",
   "execution_count": 38,
   "metadata": {},
   "outputs": [
    {
     "name": "stdout",
     "output_type": "stream",
     "text": [
      "There is 48.8% hydrophobic, 25.9% polar, 14.3% positively-charged and 11.1% negatively-charged amino-acids\n"
     ]
    }
   ],
   "source": [
    "hydrophobic = polar = negative = positive = 0\n",
    "\n",
    "for aminoacid in \"ACDEFGHIKLMNPQRSTVWY\":\n",
    "    if aminoacid in \"AFGILMPVW\":\n",
    "        hydrophobic += round(100*TRPA1.count(aminoacid)/len(TRPA1), 1)\n",
    "    elif aminoacid in \"CNQSTY\":\n",
    "        polar += round(100*TRPA1.count(aminoacid)/len(TRPA1), 1)\n",
    "    elif aminoacid in \"HKR\":\n",
    "        positive += round(100*TRPA1.count(aminoacid)/len(TRPA1), 1)\n",
    "    elif aminoacid in \"DE\":\n",
    "        negative += round(100*TRPA1.count(aminoacid)/len(TRPA1), 1)\n",
    "\n",
    "print(\"There is {}% hydrophobic, {}% polar, {}% positively-charged and {}% \\\n",
    "negatively-charged amino-acids\".format(hydrophobic, polar, positive, negative))"
   ]
  },
  {
   "cell_type": "markdown",
   "metadata": {},
   "source": [
    "It is clear that the vast majority of amino-acids in this protein are hydrophobic.\n",
    "\n",
    "This simple task could have been easily done with base Python, but I just wanted to practice a little with this `Bio.Seq.Seq` object before moving to some more complex projects."
   ]
  }
 ],
 "metadata": {
  "kernelspec": {
   "display_name": "Python 3",
   "language": "python",
   "name": "python3"
  },
  "language_info": {
   "codemirror_mode": {
    "name": "ipython",
    "version": 3
   },
   "file_extension": ".py",
   "mimetype": "text/x-python",
   "name": "python",
   "nbconvert_exporter": "python",
   "pygments_lexer": "ipython3",
   "version": "3.8.3"
  }
 },
 "nbformat": 4,
 "nbformat_minor": 4
}
